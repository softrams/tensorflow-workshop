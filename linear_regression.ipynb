{
  "nbformat": 4,
  "nbformat_minor": 0,
  "metadata": {
    "colab": {
      "name": "linear_regression.ipynb",
      "version": "0.3.2",
      "views": {},
      "default_view": {},
      "provenance": [],
      "collapsed_sections": [],
      "toc_visible": true
    },
    "kernelspec": {
      "display_name": "Python 2",
      "language": "python",
      "name": "python2"
    }
  },
  "cells": [
    {
      "metadata": {
        "id": "VnZ1rSe6n_dm",
        "colab_type": "text"
      },
      "cell_type": "markdown",
      "source": [
        "# Linear Regression with Tensorflow\n",
        "Notebook adapted from Google Tensorflow Workshop https://github.com/tensorflow/workshops"
      ]
    },
    {
      "metadata": {
        "id": "5X-ReHJKn_dn",
        "colab_type": "code",
        "colab": {
          "autoexec": {
            "startup": false,
            "wait_interval": 0
          }
        }
      },
      "cell_type": "code",
      "source": [
        "# The next three imports help with compatability between\n",
        "# Python 2 and 3\n",
        "from __future__ import absolute_import\n",
        "from __future__ import division\n",
        "from __future__ import print_function\n",
        "\n",
        "import os\n",
        "\n",
        "import numpy as np\n",
        "import pylab\n",
        "import tensorflow as tf\n",
        "\n",
        "# A special command for IPython Notebooks that\n",
        "# intructs Matplotlib to display plots in the notebook\n",
        "%matplotlib inline"
      ],
      "execution_count": 0,
      "outputs": []
    },
    {
      "metadata": {
        "id": "wBYKBFPfn_dr",
        "colab_type": "code",
        "colab": {
          "autoexec": {
            "startup": false,
            "wait_interval": 0
          }
        }
      },
      "cell_type": "code",
      "source": [
        "# This is a directory we'll use to store information\n",
        "# about the graph to later visualize in TensorBoard.\n",
        "# By default, it will be created in the same directory\n",
        "# as this notebook. \n",
        "\n",
        "# Be sure to delete the contents of this directory before\n",
        "# running the script.\n",
        "LOGDIR = './graphs'"
      ],
      "execution_count": 0,
      "outputs": []
    },
    {
      "metadata": {
        "id": "0pZ2aZ5gn_du",
        "colab_type": "code",
        "colab": {
          "autoexec": {
            "startup": false,
            "wait_interval": 0
          }
        }
      },
      "cell_type": "code",
      "source": [
        "# Begin a Tensorflow Session\n",
        "tf.reset_default_graph()\n",
        "sess = tf.Session()"
      ],
      "execution_count": 0,
      "outputs": []
    },
    {
      "metadata": {
        "id": "dJRPMFTSn_dx",
        "colab_type": "text"
      },
      "cell_type": "markdown",
      "source": [
        "This function will create a **noisy** dataset that's roughly linear, according to the equation ***y = mx + b + noise***\n",
        "\n",
        "Note the values we are using: **m=0.1, b=0.3**\n"
      ]
    },
    {
      "metadata": {
        "id": "k5hibArun_dy",
        "colab_type": "code",
        "colab": {
          "autoexec": {
            "startup": false,
            "wait_interval": 0
          }
        }
      },
      "cell_type": "code",
      "source": [
        "def make_noisy_data(m=0.1, b=0.3, n=100):\n",
        "    x = np.random.rand(n).astype(np.float32)\n",
        "    noise = np.random.normal(scale=0.01, size=len(x))\n",
        "    y = m * x + b + noise\n",
        "    return x, y"
      ],
      "execution_count": 0,
      "outputs": []
    },
    {
      "metadata": {
        "id": "9Jbyj0YQn_d0",
        "colab_type": "text"
      },
      "cell_type": "markdown",
      "source": [
        "Step 1) Create training and testing data.\n",
        "\n",
        "We are creating data sets of** same size for training and testing**. In practice, this vastly differ, based on use case."
      ]
    },
    {
      "metadata": {
        "id": "Kqqf-XBUn_d1",
        "colab_type": "code",
        "colab": {
          "autoexec": {
            "startup": false,
            "wait_interval": 0
          }
        }
      },
      "cell_type": "code",
      "source": [
        "x_train, y_train = make_noisy_data()\n",
        "x_test, y_test = make_noisy_data()"
      ],
      "execution_count": 0,
      "outputs": []
    },
    {
      "metadata": {
        "id": "Y7e_6-ALn_d3",
        "colab_type": "text"
      },
      "cell_type": "markdown",
      "source": [
        "Plot our training and testing data "
      ]
    },
    {
      "metadata": {
        "id": "f38HvVJTZ8wG",
        "colab_type": "code",
        "colab": {
          "autoexec": {
            "startup": false,
            "wait_interval": 0
          }
        }
      },
      "cell_type": "code",
      "source": [
        "# Training Data\n",
        "pylab.plot(x_train, y_train, 'b.')"
      ],
      "execution_count": 0,
      "outputs": []
    },
    {
      "metadata": {
        "id": "T6IywARnaCMf",
        "colab_type": "code",
        "colab": {
          "autoexec": {
            "startup": false,
            "wait_interval": 0
          }
        }
      },
      "cell_type": "code",
      "source": [
        "# Testing Data\n",
        "pylab.plot(x_test, y_test, 'g.')"
      ],
      "execution_count": 0,
      "outputs": []
    },
    {
      "metadata": {
        "id": "Irjwl4jkn_d4",
        "colab_type": "code",
        "colab": {
          "autoexec": {
            "startup": false,
            "wait_interval": 0
          }
        }
      },
      "cell_type": "code",
      "source": [
        "# Uncomment the following lines to plot the data.\n",
        "pylab.plot(x_train, y_train, 'b.')\n",
        "pylab.plot(x_test, y_test, 'g.')"
      ],
      "execution_count": 0,
      "outputs": []
    },
    {
      "metadata": {
        "id": "lpm5feFpn_d9",
        "colab_type": "text"
      },
      "cell_type": "markdown",
      "source": [
        "Step 2) Define placeholders for data we'll later input to the graph."
      ]
    },
    {
      "metadata": {
        "id": "Z_tH4roZn_d9",
        "colab_type": "code",
        "colab": {
          "autoexec": {
            "startup": false,
            "wait_interval": 0
          }
        }
      },
      "cell_type": "code",
      "source": [
        "# tf.name_scope is used to make a graph legible in the TensorBoard graph explorer\n",
        "# shape=[None] means x_placeholder is a one dimensional array of any length. \n",
        "# name='x' gives TensorBoard a display name for this node.\n",
        "with tf.name_scope('input'):\n",
        "    x_placeholder = tf.placeholder(shape=[None], dtype=tf.float32, name='x-input')\n",
        "    y_placeholder = tf.placeholder(shape=[None], dtype=tf.float32, name='y-input')"
      ],
      "execution_count": 0,
      "outputs": []
    },
    {
      "metadata": {
        "id": "5_QugEl-n_eD",
        "colab_type": "code",
        "colab": {
          "autoexec": {
            "startup": false,
            "wait_interval": 0
          }
        }
      },
      "cell_type": "code",
      "source": [
        "print(x_placeholder)\n",
        "print(y_placeholder)"
      ],
      "execution_count": 0,
      "outputs": []
    },
    {
      "metadata": {
        "id": "ZLEyYyOKn_eF",
        "colab_type": "text"
      },
      "cell_type": "markdown",
      "source": [
        "Step 3) Define our model.\n",
        "\n",
        "Here, we'll use a linear model: *y = mx + b*\n"
      ]
    },
    {
      "metadata": {
        "id": "QQAw1olKn_eF",
        "colab_type": "code",
        "colab": {
          "autoexec": {
            "startup": false,
            "wait_interval": 0
          }
        }
      },
      "cell_type": "code",
      "source": [
        "with tf.name_scope('model'):\n",
        "    m = tf.Variable(tf.random_normal([1]), name='m')\n",
        "    b = tf.Variable(tf.random_normal([1]), name='b')\n",
        "    # This is the same as y = tf.add(tf.mul(m, x_placeholder), b), but looks nicer\n",
        "    y = m * x_placeholder + b"
      ],
      "execution_count": 0,
      "outputs": []
    },
    {
      "metadata": {
        "id": "h6pGUjWSn_eI",
        "colab_type": "code",
        "colab": {
          "autoexec": {
            "startup": false,
            "wait_interval": 0
          }
        }
      },
      "cell_type": "code",
      "source": [
        "print(m)\n",
        "print(b)\n",
        "print(y)"
      ],
      "execution_count": 0,
      "outputs": []
    },
    {
      "metadata": {
        "id": "OIDTEe2SbGAm",
        "colab_type": "text"
      },
      "cell_type": "markdown",
      "source": [
        "Learning Rate\n",
        "\n",
        "\n",
        "*   Importance of Learning Rate\n",
        "*   Is there a way to pick an optimal learning rate\n",
        "\n"
      ]
    },
    {
      "metadata": {
        "id": "rGSOkfJ1bFgw",
        "colab_type": "code",
        "colab": {
          "autoexec": {
            "startup": false,
            "wait_interval": 0
          }
        }
      },
      "cell_type": "code",
      "source": [
        "LEARNING_RATE = 0.5"
      ],
      "execution_count": 0,
      "outputs": []
    },
    {
      "metadata": {
        "id": "1vhV6Vuvn_eK",
        "colab_type": "text"
      },
      "cell_type": "markdown",
      "source": [
        "Step 4) Define a loss function (Mean Square Error) and an optimizer (Gradient Descent)."
      ]
    },
    {
      "metadata": {
        "id": "SCfVrkW5n_eK",
        "colab_type": "code",
        "colab": {
          "autoexec": {
            "startup": false,
            "wait_interval": 0
          }
        }
      },
      "cell_type": "code",
      "source": [
        "with tf.name_scope('training'):\n",
        "    with tf.name_scope('loss'):\n",
        "        loss = tf.reduce_mean(tf.square(y - y_placeholder))\n",
        "    with tf.name_scope('optimizer'):\n",
        "        optimizer = tf.train.GradientDescentOptimizer(LEARNING_RATE)\n",
        "        train = optimizer.minimize(loss) "
      ],
      "execution_count": 0,
      "outputs": []
    },
    {
      "metadata": {
        "id": "e9TR6ypyn_eM",
        "colab_type": "code",
        "colab": {
          "autoexec": {
            "startup": false,
            "wait_interval": 0
          }
        }
      },
      "cell_type": "code",
      "source": [
        "print(\"loss:\", loss)\n",
        "print(\"optimizer:\", optimizer)\n",
        "print(\"train_step:\", train)"
      ],
      "execution_count": 0,
      "outputs": []
    },
    {
      "metadata": {
        "id": "BmJdqu-Nn_eP",
        "colab_type": "text"
      },
      "cell_type": "markdown",
      "source": [
        "Step 5) Set up TensorBoard  (Optional, if you are running in docker or in local environment)"
      ]
    },
    {
      "metadata": {
        "id": "QT4bngv4n_eQ",
        "colab_type": "code",
        "colab": {
          "autoexec": {
            "startup": false,
            "wait_interval": 0
          }
        }
      },
      "cell_type": "code",
      "source": [
        "# Write the graph\n",
        "writer = tf.summary.FileWriter(LOGDIR)\n",
        "writer.add_graph(sess.graph)\n",
        "\n",
        "# Attach summaries to Tensors (for TensorBoard visualization)\n",
        "tf.summary.histogram('m', m)\n",
        "tf.summary.histogram('b', b)\n",
        "tf.summary.scalar('loss', loss)\n",
        "\n",
        "# This op will calculate our summary data when run\n",
        "summary_op = tf.summary.merge_all()"
      ],
      "execution_count": 0,
      "outputs": []
    },
    {
      "metadata": {
        "id": "9_MF2P0pn_eS",
        "colab_type": "text"
      },
      "cell_type": "markdown",
      "source": [
        "Step 6) Initialize variables\n",
        "\n",
        "At this point, our graph is complete. We're now ready to initialize variables, then begin training."
      ]
    },
    {
      "metadata": {
        "id": "O6aS9hFYn_eT",
        "colab_type": "code",
        "colab": {
          "autoexec": {
            "startup": false,
            "wait_interval": 0
          }
        }
      },
      "cell_type": "code",
      "source": [
        "sess.run(tf.global_variables_initializer())"
      ],
      "execution_count": 0,
      "outputs": []
    },
    {
      "metadata": {
        "id": "J3ict0d9n_eV",
        "colab_type": "text"
      },
      "cell_type": "markdown",
      "source": [
        "Step 7) Training\n"
      ]
    },
    {
      "metadata": {
        "id": "RKQGskWup-EP",
        "colab_type": "code",
        "colab": {
          "autoexec": {
            "startup": false,
            "wait_interval": 0
          }
        }
      },
      "cell_type": "code",
      "source": [
        "TRAIN_STEPS = 51"
      ],
      "execution_count": 0,
      "outputs": []
    },
    {
      "metadata": {
        "id": "fASn2b2Hn_eV",
        "colab_type": "code",
        "colab": {
          "autoexec": {
            "startup": false,
            "wait_interval": 0
          }
        },
        "cellView": "code"
      },
      "cell_type": "code",
      "source": [
        "for step in range(TRAIN_STEPS):\n",
        "    \n",
        "    # Session will run two ops:\n",
        "    # - summary_op prepares summary data we'll write to disk in a moment\n",
        "    # - train will use the optimizer to adjust our variables to reduce loss\n",
        "    summary_result, _ = sess.run([summary_op, train], \n",
        "                                  feed_dict={x_placeholder: x_train, \n",
        "                                             y_placeholder: y_train})\n",
        "    # write the summary data to disk\n",
        "    writer.add_summary(summary_result, step)\n",
        "    \n",
        "    # Display graphically for every 5 steps of training\n",
        "    if step % 5 == 0:\n",
        "        print(step, sess.run([m, b]))\n",
        "\n",
        "        pylab.plot(x_train, y_train, 'b.')\n",
        "        pylab.plot(x_train, sess.run(m) * x_train + sess.run(b), 'r')\n",
        "        pylab.legend()\n",
        "        pylab.show()\n",
        "    \n",
        "# close the writer when we're finished using it\n",
        "writer.close()"
      ],
      "execution_count": 0,
      "outputs": []
    },
    {
      "metadata": {
        "id": "mjMOdFzun_eb",
        "colab_type": "code",
        "colab": {
          "autoexec": {
            "startup": false,
            "wait_interval": 0
          }
        }
      },
      "cell_type": "code",
      "source": [
        ""
      ],
      "execution_count": 0,
      "outputs": []
    },
    {
      "metadata": {
        "id": "ft2hYOBAn_ed",
        "colab_type": "text"
      },
      "cell_type": "markdown",
      "source": [
        "Step 8) See the trained values for m and b"
      ]
    },
    {
      "metadata": {
        "id": "zrXyTNqBn_ee",
        "colab_type": "code",
        "colab": {
          "autoexec": {
            "startup": false,
            "wait_interval": 0
          }
        }
      },
      "cell_type": "code",
      "source": [
        "print (\"m: %f, b: %f\" % (sess.run(m), sess.run(b)))"
      ],
      "execution_count": 0,
      "outputs": []
    },
    {
      "metadata": {
        "id": "2WFHEHBfn_eg",
        "colab_type": "text"
      },
      "cell_type": "markdown",
      "source": [
        "Step 9) Use the trained model to make a prediction"
      ]
    },
    {
      "metadata": {
        "id": "vNwbHZDdn_eg",
        "colab_type": "code",
        "colab": {
          "autoexec": {
            "startup": false,
            "wait_interval": 0
          }
        }
      },
      "cell_type": "code",
      "source": [
        "# Use the trained model to make a prediction!\n",
        "# Remember that x_placeholder must be a vector, hence [2] not just 2.\n",
        "# We expect the result to be (about): 2 * 0.1 + 0.3 + noise ~= 0.5\n",
        "sess.run(y, feed_dict={x_placeholder: [2]})"
      ],
      "execution_count": 0,
      "outputs": []
    },
    {
      "metadata": {
        "id": "F8Lq7iD0n_ei",
        "colab_type": "text"
      },
      "cell_type": "markdown",
      "source": [
        "Step 10) Start TensorBoard"
      ]
    },
    {
      "metadata": {
        "id": "m9ZsZLsKn_ej",
        "colab_type": "code",
        "colab": {
          "autoexec": {
            "startup": false,
            "wait_interval": 0
          }
        }
      },
      "cell_type": "code",
      "source": [
        "# To start TensorBoard, run this command from a terminal\n",
        "# Note: you should run this from the same directory that contains this notebook\n",
        "# or, provide absolute path to the 'graphs' directory\n",
        "# If you are runnining in a virtualenv, be sure to start it\n",
        "# if you open a new terminal window.\n",
        "\n",
        "# $ tensorboard --logdir=graphs\n",
        "\n",
        "# To open TensorBoard, point your browser to http://localhost:6006\n",
        "# Then, click on the tabs for 'scalars', 'distributions', 'histograms', and 'graphs'\n",
        "# to learn more.\n",
        "\n",
        "# If you run into trouble, delete LOGDIR (to clear information from previous runs),\n",
        "# then re-run this script, and restart TensorBoard."
      ],
      "execution_count": 0,
      "outputs": []
    }
  ]
}